{
  "nbformat": 4,
  "nbformat_minor": 0,
  "metadata": {
    "colab": {
      "provenance": []
    },
    "kernelspec": {
      "name": "python3",
      "display_name": "Python 3"
    },
    "language_info": {
      "name": "python"
    }
  },
  "cells": [
    {
      "cell_type": "code",
      "execution_count": null,
      "metadata": {
        "collapsed": true,
        "id": "_HS88i4k4OP4"
      },
      "outputs": [],
      "source": [
        "!pip install roboflow jsonlines groq kaggle serpapi google-search-results"
      ]
    },
    {
      "cell_type": "code",
      "source": [
        "import os\n",
        "import shutil\n",
        "import pandas as pd\n",
        "from roboflow import Roboflow\n",
        "from google.colab import userdata\n",
        "from google.colab import drive\n",
        "import pandas as pd\n",
        "import matplotlib as plt"
      ],
      "metadata": {
        "id": "lYRIObza4bqG"
      },
      "execution_count": null,
      "outputs": []
    },
    {
      "cell_type": "code",
      "source": [
        "# connect drive storage inside the google colab session\n",
        "drive.mount('/content/drive', force_remount=True)"
      ],
      "metadata": {
        "id": "UKw3tl-r4d_0"
      },
      "execution_count": null,
      "outputs": []
    },
    {
      "cell_type": "code",
      "source": [
        "path = '/content/drive/MyDrive/South FL Butterflies'\n",
        "class_paths = []\n",
        "classes = []\n",
        "for butterfly_directory in os.listdir(path):\n",
        "  for image_path in os.listdir(f'{path}/{butterfly_directory}'):\n",
        "    class_path = f'{path}/{butterfly_directory}/{image_path}'\n",
        "    class_paths.append(class_path)\n",
        "    classes.append(butterfly_directory)\n",
        "\n",
        "df = pd.DataFrame({\n",
        "    \"class_path\":class_paths,\n",
        "    \"class\": classes\n",
        "})"
      ],
      "metadata": {
        "collapsed": true,
        "id": "9NWzJKFJ4ho4"
      },
      "execution_count": null,
      "outputs": []
    },
    {
      "cell_type": "code",
      "source": [
        "df"
      ],
      "metadata": {
        "collapsed": true,
        "id": "muE1T0dj4k4b"
      },
      "execution_count": null,
      "outputs": []
    },
    {
      "cell_type": "code",
      "source": [
        "from sklearn.model_selection import train_test_split\n",
        "#stratify keeps class distribution the same across testing and training\n",
        "train_df, test_df = train_test_split(df,test_size=0.2,stratify=df['class'])\n",
        "#can experiment with k fold validation later\n",
        "train_df, valid_df = train_test_split(train_df,test_size=0.2,stratify=train_df['class'])"
      ],
      "metadata": {
        "id": "xJEZAs9h4nlo"
      },
      "execution_count": null,
      "outputs": []
    },
    {
      "cell_type": "code",
      "source": [
        "train_df"
      ],
      "metadata": {
        "id": "0IwiFdyn4pqK"
      },
      "execution_count": null,
      "outputs": []
    },
    {
      "cell_type": "code",
      "source": [
        "test_df[test_df['class']=='Alfalfa Butterfly']"
      ],
      "metadata": {
        "id": "eH2oNxhY4ri_"
      },
      "execution_count": null,
      "outputs": []
    },
    {
      "cell_type": "code",
      "source": [
        "len(os.listdir('/content/drive/MyDrive/South FL Butterflies'))\n",
        "print(\"Training set rows:\", train_df.shape[0]) # 64%\n",
        "print(\"Validation set rows:\", valid_df.shape[0]) # 16%\n",
        "print(\"Test set rows:\", test_df.shape[0]) # 20%"
      ],
      "metadata": {
        "id": "X72oDCab4ttR"
      },
      "execution_count": null,
      "outputs": []
    }
  ]
}