{
 "cells": [
  {
   "cell_type": "code",
   "execution_count": null,
   "metadata": {},
   "outputs": [],
   "source": [
    "# This script uploads new datasets to google drive, checking for existing datasets, and lists butterfly directories inside google drive"
   ]
  },
  {
   "cell_type": "code",
   "execution_count": null,
   "metadata": {},
   "outputs": [],
   "source": [
    "# imports\n",
    "import os\n",
    "import shutil"
   ]
  },
  {
   "cell_type": "code",
   "execution_count": null,
   "metadata": {},
   "outputs": [],
   "source": [
    "# paths\n",
    "SHARED_FOLDER_PATH = \"/content/drive/MyDrive/South FL Butterflies\""
   ]
  },
  {
   "cell_type": "code",
   "execution_count": null,
   "metadata": {},
   "outputs": [],
   "source": [
    "# upload function\n",
    "def move_to_drive(dataset_path, destination_folder):\n",
    "    dest_path = os.path.join(destination_folder, os.path.basename(dataset_path))\n",
    "    \n",
    "    if os.path.exists(dest_path):\n",
    "        print(f\"Dataset {os.path.basename(dataset_path)} already exists. Skipping.\")\n",
    "    else:\n",
    "        shutil.move(dataset_path, destination_folder)\n",
    "        print(f\"Moved dataset to {destination_folder}\")"
   ]
  },
  {
   "cell_type": "code",
   "execution_count": null,
   "metadata": {},
   "outputs": [],
   "source": [
    "# get new butterfly directories for upload\n",
    "def get_butterfly_directories_for_drive_upload():\n",
    "    directories = []\n",
    "    exclude = {'sample_data', 'drive', '.config'}\n",
    "    \n",
    "    for folder in os.listdir('/content/'):\n",
    "        if folder not in exclude:\n",
    "            directories.append(f'/content/{folder}')\n",
    "    return directories\n",
    "\n",
    "butterfly_dirs = get_butterfly_directories_for_drive_upload()"
   ]
  },
  {
   "cell_type": "code",
   "execution_count": null,
   "metadata": {},
   "outputs": [],
   "source": [
    "# upload datasets\n",
    "for dataset in butterfly_dirs:\n",
    "    move_to_drive(dataset, SHARED_FOLDER_PATH)"
   ]
  },
  {
   "cell_type": "code",
   "execution_count": null,
   "metadata": {},
   "outputs": [],
   "source": [
    "# list butterfly directories inside drive\n",
    "def get_butterfly_directories_inside_drive():\n",
    "    directories = []\n",
    "    exclude = {'sample_data', 'drive', '.config'}\n",
    "    \n",
    "    for folder in os.listdir('/content/drive/MyDrive/Butterfly-Datasets'):\n",
    "        if folder not in exclude:\n",
    "            directories.append(f'/content/drive/MyDrive/Butterfly-Datasets/{folder}')\n",
    "    return directories\n",
    "\n",
    "butterfly_dirs = get_butterfly_directories_inside_drive()\n",
    "print(butterfly_dirs)"
   ]
  }
 ],
 "metadata": {
  "language_info": {
   "name": "python"
  }
 },
 "nbformat": 4,
 "nbformat_minor": 2
}
