{
 "cells": [
  {
   "cell_type": "code",
   "execution_count": null,
   "metadata": {},
   "outputs": [],
   "source": [
    "# This script handles image augmentation (rotation, zoom, brightness adjustment) and creating data generators for training, val, and testing"
   ]
  },
  {
   "cell_type": "code",
   "execution_count": null,
   "metadata": {},
   "outputs": [],
   "source": [
    "# imports\n",
    "import tensorflow as tf\n",
    "from tensorflow.keras.preprocessing.image import ImageDataGenerator\n",
    "import matplotlib.pyplot as plt"
   ]
  },
  {
   "cell_type": "code",
   "execution_count": null,
   "metadata": {},
   "outputs": [],
   "source": [
    "# image augmentation parameters\n",
    "image_generator = ImageDataGenerator(\n",
    "    zoom_range=[0.5, 1], # zoom in 20% and out 10$\n",
    "    brightness_range=[0.8, 1.2], # dim by up to 20%, brighten by up to 20%\n",
    "    rescale=1/255 # scales pixel values between [0,1]; they are between 0-255 so dividing places in in that range\n",
    ")\n",
    "\n",
    "# parameters\n",
    "batch_size = 32\n",
    "img_size = (224, 224)"
   ]
  },
  {
   "cell_type": "code",
   "execution_count": null,
   "metadata": {},
   "outputs": [],
   "source": [
    "# load images into the generator for data aug; common batch size is 16 (more computational) or 32; img size used in reset is 224, 224 \n",
    "tr_gen = image_generator.flow_from_dataframe(\n",
    "    train_df, x_col='class_path', y_col='class',\n",
    "    target_size=img_size, batch_size=batch_size, class_mode='categorical'\n",
    ")\n",
    "\n",
    "ts_gen = image_generator.flow_from_dataframe(\n",
    "    test_df, x_col='class_path', y_col='class',\n",
    "    target_size=img_size, batch_size=batch_size, class_mode='categorical'\n",
    ")\n",
    "\n",
    "valid_gen = image_generator.flow_from_dataframe(\n",
    "    valid_df, x_col='class_path', y_col='class',\n",
    "    target_size=img_size, batch_size=batch_size, class_mode='categorical'\n",
    ")"
   ]
  },
  {
   "cell_type": "code",
   "execution_count": null,
   "metadata": {},
   "outputs": [],
   "source": [
    "# display some images\n",
    "for images, labels in tr_gen:\n",
    "    for img in images:\n",
    "        plt.imshow(img)\n",
    "        plt.show()"
   ]
  }
 ],
 "metadata": {
  "language_info": {
   "name": "python"
  }
 },
 "nbformat": 4,
 "nbformat_minor": 2
}
